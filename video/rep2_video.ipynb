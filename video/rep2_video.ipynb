{
 "cells": [
  {
   "cell_type": "code",
   "execution_count": 2,
   "metadata": {},
   "outputs": [
    {
     "name": "stdout",
     "output_type": "stream",
     "text": [
      "Requirement already satisfied: opencv-python in c:\\programdata\\anaconda3\\lib\\site-packages (4.4.0.46)\n",
      "Requirement already satisfied: numpy>=1.17.3 in c:\\programdata\\anaconda3\\lib\\site-packages (from opencv-python) (1.18.5)\n"
     ]
    }
   ],
   "source": [
    "!pip install opencv-python"
   ]
  },
  {
   "cell_type": "code",
   "execution_count": 24,
   "metadata": {},
   "outputs": [],
   "source": [
    "import cv2\n",
    "import matplotlib.pyplot as plt\n",
    "from IPython import display\n",
    "from IPython.display import Image,Video\n",
    "import numpy as np\n"
   ]
  },
  {
   "cell_type": "code",
   "execution_count": 4,
   "metadata": {},
   "outputs": [
    {
     "name": "stdout",
     "output_type": "stream",
     "text": [
      "['person', 'bicycle', 'car', 'motorbike', 'aeroplane', 'bus', 'train', 'truck', 'boat', 'traffic light', 'fire hydrant', 'stop sign', 'parking meter', 'bench', 'bird', 'cat', 'dog', 'horse', 'sheep', 'cow', 'elephant', 'bear', 'zebra', 'giraffe', 'backpack', 'umbrella', 'handbag', 'tie', 'suitcase', 'frisbee', 'skis', 'snowboard', 'sports ball', 'kite', 'baseball bat', 'baseball glove', 'skateboard', 'surfboard', 'tennis racket', 'bottle', 'wine glass', 'cup', 'fork', 'knife', 'spoon', 'bowl', 'banana', 'apple', 'sandwich', 'orange', 'broccoli', 'carrot', 'hot dog', 'pizza', 'donut', 'cake', 'chair', 'sofa', 'pottedplant', 'bed', 'diningtable', 'toilet', 'tvmonitor', 'laptop', 'mouse', 'remote', 'keyboard', 'cell phone', 'microwave', 'oven', 'toaster', 'sink', 'refrigerator', 'book', 'clock', 'vase', 'scissors', 'teddy bear', 'hair drier', 'toothbrush', '']\n"
     ]
    }
   ],
   "source": [
    "net=cv2.dnn.readNet('yolov3.weights','yolov3.cfg')\n",
    "\n",
    "layer_names=net.getLayerNames()\n",
    "out_layers_index=net.getUnconnectedOutLayers()\n",
    "out_layers=[layer_names[index[0]-1] for index in out_layers_index]\n",
    "\n",
    "with open('coco.names') as f:\n",
    "    classes=f.read().split('\\n')\n",
    "print(classes)"
   ]
  },
  {
   "cell_type": "code",
   "execution_count": 5,
   "metadata": {},
   "outputs": [],
   "source": [
    "def draw_obj(img,index,score,box):\n",
    "    x,y,w,h=box\n",
    "    start=(x,y)\n",
    "    end=(x+w,y+h)\n",
    "    color=(0,255,0)\n",
    "    width=2\n",
    "    img=cv2.rectangle(img,start,end,color,width)\n",
    "    \n",
    "    start=(x-10,y-10)\n",
    "    font_size=1\n",
    "    font = cv2.FONT_HERSHEY_SIMPLEX \n",
    "    color = (0, 255, 0) \n",
    "    width=2  \n",
    "    text=classes[index]\n",
    "    img = cv2.putText(img, text, start, font, font_size, color, width, cv2.LINE_AA) \n",
    "    return img"
   ]
  },
  {
   "cell_type": "code",
   "execution_count": 6,
   "metadata": {},
   "outputs": [],
   "source": [
    "def apply_yolo(img):\n",
    "    h,w,d=img.shape\n",
    "    blob=cv2.dnn.blobFromImage(img, 1/255, (608,608), (0,0,0), swapRB=True, crop=False)\n",
    "    net.setInput(blob)\n",
    "    outs=net.forward(out_layers)\n",
    "    \n",
    "    class_indexes=[]\n",
    "    class_scores=[]\n",
    "    boxes=[]\n",
    "\n",
    "    import numpy as np\n",
    "    for out in outs:\n",
    "        for obj in out:\n",
    "            scores=obj[5:]\n",
    "            class_index=np.argmax(scores)\n",
    "            class_score=scores[class_index]\n",
    "            if class_score >0:\n",
    "                centr_x=int(obj[0]*w)\n",
    "                centr_y=int(obj[1]*h) #получаем координаты начала объекта \n",
    "                obj_w=int(obj[2]*w)#ширина объекта\n",
    "                obj_h=int(obj[3]*h)#высота объекта\n",
    "                x=centr_x-obj_w//2\n",
    "                y=centr_y-obj_h//2\n",
    "                box=[x,y,obj_w,obj_h]\n",
    "                boxes.append(box)\n",
    "                class_indexes.append(class_index)\n",
    "                class_scores.append(float(class_score))\n",
    "        chosen_boxes=cv2.dnn.NMSBoxes(boxes,class_scores, 0,0.4)\n",
    "       \n",
    "    for box_index in chosen_boxes:\n",
    "        box_index=box_index[0]\n",
    "        img=draw_obj(img,class_indexes[box_index],class_scores[box_index],boxes[box_index])\n",
    "    return img"
   ]
  },
  {
   "cell_type": "code",
   "execution_count": null,
   "metadata": {},
   "outputs": [],
   "source": []
  },
  {
   "cell_type": "code",
   "execution_count": null,
   "metadata": {},
   "outputs": [],
   "source": [
    "#Можно воспользоваться библиотекой matplotlib вместо создания нового видео-файла, но страдает быстродействие, \n",
    "#cap=cv2.VideoCapture('vudeo.mp4')\n",
    "#while cap.isOpened():\n",
    "#    ret, frame=cap.read()\n",
    "#    if not ret:\n",
    "#        break\n",
    "#    frame=apply_yolo(frame)\n",
    "#    frame=cv2.cvtColor(frame,cv2.COLOR_BGR2RGB)\n",
    "#    frame=cv2.resize(frame,(2560//2, 1400//2))\n",
    "#    plt.figure(figsize=(20,15))\n",
    "#    plt.imshow(frame)\n",
    "#    display.clear_output(wait=True)\n",
    "#    display.display(plt.gcf())\n",
    "#cap.release()\n"
   ]
  },
  {
   "cell_type": "code",
   "execution_count": null,
   "metadata": {},
   "outputs": [],
   "source": []
  },
  {
   "cell_type": "code",
   "execution_count": 36,
   "metadata": {},
   "outputs": [
    {
     "name": "stdout",
     "output_type": "stream",
     "text": [
      "...................."
     ]
    }
   ],
   "source": [
    "size=(2560//4, 1400//4)\n",
    "codec=cv2.VideoWriter_fourcc(*'H264')\n",
    "out=cv2.VideoWriter('output.mp4', codec, 5, size)\n",
    "#codec=cv2.VideoWriter_fourcc(*'MJPG')\n",
    "#out=cv2.VideoWriter('output.avi', codec, 5, size)\n",
    "\n",
    "cap=cv2.VideoCapture('video.mp4')\n",
    "counter=0\n",
    "while cap.isOpened() and counter<20:\n",
    "    counter+=1\n",
    "    print('.',end='')\n",
    "    ret, frame=cap.read()\n",
    "    if not ret:\n",
    "        break\n",
    "    frame=apply_yolo(frame)\n",
    "    frame=cv2.resize(frame,(2560//4, 1400//4))\n",
    "    \n",
    "    out.write(frame)\n",
    "\n",
    "cap.release()\n",
    "out.release()"
   ]
  },
  {
   "cell_type": "code",
   "execution_count": 37,
   "metadata": {},
   "outputs": [
    {
     "data": {
      "text/html": [
       "<video src=\"output.mp4\" controls  >\n",
       "      Your browser does not support the <code>video</code> element.\n",
       "    </video>"
      ],
      "text/plain": [
       "<IPython.core.display.Video object>"
      ]
     },
     "execution_count": 37,
     "metadata": {},
     "output_type": "execute_result"
    }
   ],
   "source": [
    "Video('output.mp4')"
   ]
  },
  {
   "cell_type": "code",
   "execution_count": null,
   "metadata": {},
   "outputs": [],
   "source": []
  }
 ],
 "metadata": {
  "kernelspec": {
   "display_name": "Python 3",
   "language": "python",
   "name": "python3"
  },
  "language_info": {
   "codemirror_mode": {
    "name": "ipython",
    "version": 3
   },
   "file_extension": ".py",
   "mimetype": "text/x-python",
   "name": "python",
   "nbconvert_exporter": "python",
   "pygments_lexer": "ipython3",
   "version": "3.8.3"
  }
 },
 "nbformat": 4,
 "nbformat_minor": 4
}
